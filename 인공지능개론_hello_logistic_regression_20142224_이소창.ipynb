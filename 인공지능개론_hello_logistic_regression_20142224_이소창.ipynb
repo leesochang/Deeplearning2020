{
  "nbformat": 4,
  "nbformat_minor": 0,
  "metadata": {
    "kernelspec": {
      "display_name": "Python 3",
      "language": "python",
      "name": "python3"
    },
    "language_info": {
      "codemirror_mode": {
        "name": "ipython",
        "version": 3
      },
      "file_extension": ".py",
      "mimetype": "text/x-python",
      "name": "python",
      "nbconvert_exporter": "python",
      "pygments_lexer": "ipython3",
      "version": "3.6.8"
    },
    "colab": {
      "name": "인공지능개론_hello_logistic_regression_20142224_이소창.ipynb",
      "provenance": [],
      "include_colab_link": true
    }
  },
  "cells": [
    {
      "cell_type": "markdown",
      "metadata": {
        "id": "view-in-github",
        "colab_type": "text"
      },
      "source": [
        "<a href=\"https://colab.research.google.com/github/leesochang/Deeplearning2020/blob/master/%EC%9D%B8%EA%B3%B5%EC%A7%80%EB%8A%A5%EA%B0%9C%EB%A1%A0_hello_logistic_regression_20142224_%EC%9D%B4%EC%86%8C%EC%B0%BD.ipynb\" target=\"_parent\"><img src=\"https://colab.research.google.com/assets/colab-badge.svg\" alt=\"Open In Colab\"/></a>"
      ]
    },
    {
      "cell_type": "markdown",
      "metadata": {
        "id": "uQyh_UkaIYZD",
        "colab_type": "text"
      },
      "source": [
        "# Logistic Regression 이해하기 : 매우 중요"
      ]
    },
    {
      "cell_type": "code",
      "metadata": {
        "id": "-OBL9gdWIYZE",
        "colab_type": "code",
        "colab": {}
      },
      "source": [
        "#import tensorflow as tf\n",
        "import tensorflow.compat.v1 as tf\n",
        "tf.disable_v2_behavior()"
      ],
      "execution_count": 39,
      "outputs": []
    },
    {
      "cell_type": "code",
      "metadata": {
        "id": "PaNHq9KsIYZK",
        "colab_type": "code",
        "colab": {}
      },
      "source": [
        "import numpy as np\n",
        "import matplotlib.pyplot as plt"
      ],
      "execution_count": 40,
      "outputs": []
    },
    {
      "cell_type": "code",
      "metadata": {
        "id": "WIR-W3Z8IYZO",
        "colab_type": "code",
        "colab": {}
      },
      "source": [
        "x_data = [[1,2], [2,3], [3,1], [4,3], [5,3], [6,2]] #1일동안 2시간 공부~ 6일동안 2시간 공부\n",
        "y_data = [[0],[0],[0],[1],[1],[1]] #눈치껏 추가...?"
      ],
      "execution_count": 41,
      "outputs": []
    },
    {
      "cell_type": "code",
      "metadata": {
        "id": "pjGDCnItM7T9",
        "colab_type": "code",
        "colab": {
          "base_uri": "https://localhost:8080/",
          "height": 35
        },
        "outputId": "3e608941-6e10-493f-e9cc-9bd057294e22"
      },
      "source": [
        "np.shape(x_data)"
      ],
      "execution_count": 42,
      "outputs": [
        {
          "output_type": "execute_result",
          "data": {
            "text/plain": [
              "(6, 2)"
            ]
          },
          "metadata": {
            "tags": []
          },
          "execution_count": 42
        }
      ]
    },
    {
      "cell_type": "code",
      "metadata": {
        "id": "mjS-HPD6IYZR",
        "colab_type": "code",
        "colab": {}
      },
      "source": [
        "X = tf.placeholder(tf.float32, shape=[None, 2])  #placeholder 데이터를 넣어주는 곳\n",
        "Y = tf.placeholder(tf.float32, shape=[None, 1])\n",
        " \n",
        "# input = 2, output = 1 \n",
        "W = tf.Variable(tf.random_normal([2,1]), name='weight')\n",
        "# output = 1\n",
        "b = tf.Variable(tf.random_normal([1]), name='bias')"
      ],
      "execution_count": 43,
      "outputs": []
    },
    {
      "cell_type": "markdown",
      "metadata": {
        "id": "F7bSuq0cIYZV",
        "colab_type": "text"
      },
      "source": [
        "### Hypothesis"
      ]
    },
    {
      "cell_type": "code",
      "metadata": {
        "id": "Iwg6107MIYZV",
        "colab_type": "code",
        "colab": {}
      },
      "source": [
        "# sigmoid function 은 우리의 가설 H(X) = 1/(1+e^(-w.transpose * X))\n",
        "# tf.div(1., tf.exp(tf.matmul(X, W) + b)) 와 같음\n",
        "# H 라고 표현\n",
        "hypothesis = tf.sigmoid(tf.matmul(X, W) + b)\n",
        "#hypothesis = tf.div(1., tf.exp(tf.matmul(X, W) + b)) #이거 사용하면 아래 텐서플로우에 데이터를 넣으면 nan이라는 글이 나옴"
      ],
      "execution_count": 44,
      "outputs": []
    },
    {
      "cell_type": "code",
      "metadata": {
        "id": "tDe_cg-iIYZY",
        "colab_type": "code",
        "colab": {}
      },
      "source": [
        "# 새롭게 정의된 오차함수\n",
        "cost = -tf.reduce_mean(Y * tf.log(hypothesis) + (1 - Y) * (tf.log(1 - hypothesis)))\n",
        " \n",
        "# 학습 그래프 최적화 알고리즘 경사하강법\n",
        "train = tf.train.GradientDescentOptimizer(learning_rate=0.01).minimize(cost)"
      ],
      "execution_count": 45,
      "outputs": []
    },
    {
      "cell_type": "code",
      "metadata": {
        "id": "1x9iVZbkRI7t",
        "colab_type": "code",
        "colab": {}
      },
      "source": [
        "# 예측값 H(X) > 0.5 is true, else false (니가 한 번 맞춰봐라)\n",
        "predicted = tf.cast(hypothesis > 0.5, dtype=tf.float32)\n",
        "# 0이나 1의 값을 트레이닝 횟수만큼 평균치 계산 (정확도)\n",
        "accuracy = tf.reduce_mean(tf.cast(tf.equal(predicted, Y), dtype=tf.float32))"
      ],
      "execution_count": 46,
      "outputs": []
    },
    {
      "cell_type": "markdown",
      "metadata": {
        "id": "U3BUAZf9IYZb",
        "colab_type": "text"
      },
      "source": [
        "### Train !"
      ]
    },
    {
      "cell_type": "code",
      "metadata": {
        "id": "ZgvDfIp6IYZc",
        "colab_type": "code",
        "colab": {
          "base_uri": "https://localhost:8080/",
          "height": 73
        },
        "outputId": "af0467f4-ceaf-4ed9-af5e-e6691762a067"
      },
      "source": [
        "sess = tf.InteractiveSession()"
      ],
      "execution_count": 47,
      "outputs": [
        {
          "output_type": "stream",
          "text": [
            "/usr/local/lib/python3.6/dist-packages/tensorflow/python/client/session.py:1751: UserWarning: An interactive session is already active. This can cause out-of-memory errors in some cases. You must explicitly call `InteractiveSession.close()` to release resources held by the other session(s).\n",
            "  warnings.warn('An interactive session is already active. This can '\n"
          ],
          "name": "stderr"
        }
      ]
    },
    {
      "cell_type": "code",
      "metadata": {
        "id": "GWnmi680IYZh",
        "colab_type": "code",
        "colab": {}
      },
      "source": [
        "sess.run(tf.global_variables_initializer())"
      ],
      "execution_count": 48,
      "outputs": []
    },
    {
      "cell_type": "code",
      "metadata": {
        "id": "Wt0VmsleTdDa",
        "colab_type": "code",
        "colab": {}
      },
      "source": [
        "vcost = []"
      ],
      "execution_count": 49,
      "outputs": []
    },
    {
      "cell_type": "code",
      "metadata": {
        "id": "mSG1pcItIYZj",
        "colab_type": "code",
        "colab": {
          "base_uri": "https://localhost:8080/",
          "height": 215
        },
        "outputId": "6eedd127-0a4f-46af-f011-51076c20f8b2"
      },
      "source": [
        "#숫자가 줄어드는 경향이 중요\n",
        "for step in range(10001):\n",
        "    cost_val,  _ = sess.run([cost, train], feed_dict={X:x_data, Y:y_data}) #이 지점에서 tf 넣어줌\n",
        "    vcost.append(cost_val)\n",
        "    if step % 1000 == 0:\n",
        "        print(step, '\\t', cost_val)"
      ],
      "execution_count": 50,
      "outputs": [
        {
          "output_type": "stream",
          "text": [
            "0 \t 0.8427616\n",
            "1000 \t 0.45193925\n",
            "2000 \t 0.38106444\n",
            "3000 \t 0.32594642\n",
            "4000 \t 0.28292093\n",
            "5000 \t 0.24898534\n",
            "6000 \t 0.22184171\n",
            "7000 \t 0.19979829\n",
            "8000 \t 0.18162799\n",
            "9000 \t 0.16643979\n",
            "10000 \t 0.15358135\n"
          ],
          "name": "stdout"
        }
      ]
    },
    {
      "cell_type": "markdown",
      "metadata": {
        "id": "59xGMqqGIYZn",
        "colab_type": "text"
      },
      "source": [
        "### Test !"
      ]
    },
    {
      "cell_type": "code",
      "metadata": {
        "id": "esweORaeIYZo",
        "colab_type": "code",
        "colab": {
          "base_uri": "https://localhost:8080/",
          "height": 35
        },
        "outputId": "5e863ad3-207f-44fd-e921-6c56f978628f"
      },
      "source": [
        "sess.run(hypothesis,feed_dict={X:[[1,2]]} ) "
      ],
      "execution_count": 53,
      "outputs": [
        {
          "output_type": "execute_result",
          "data": {
            "text/plain": [
              "array([[0.03247718]], dtype=float32)"
            ]
          },
          "metadata": {
            "tags": []
          },
          "execution_count": 53
        }
      ]
    },
    {
      "cell_type": "code",
      "metadata": {
        "id": "8uzpnD2nL8ct",
        "colab_type": "code",
        "colab": {
          "base_uri": "https://localhost:8080/",
          "height": 35
        },
        "outputId": "2d932122-3a4f-4a4a-b6c0-d34d15273771"
      },
      "source": [
        "sess.run(predicted,feed_dict={X:[[1,2]]} )"
      ],
      "execution_count": 54,
      "outputs": [
        {
          "output_type": "execute_result",
          "data": {
            "text/plain": [
              "array([[0.]], dtype=float32)"
            ]
          },
          "metadata": {
            "tags": []
          },
          "execution_count": 54
        }
      ]
    },
    {
      "cell_type": "code",
      "metadata": {
        "id": "eKiBs9t3UO5i",
        "colab_type": "code",
        "colab": {
          "base_uri": "https://localhost:8080/",
          "height": 35
        },
        "outputId": "e75b65a6-3216-4bb5-848d-f8263fe4d2c4"
      },
      "source": [
        "sess.run(hypothesis,feed_dict={X:[[4,3]]} ) "
      ],
      "execution_count": 55,
      "outputs": [
        {
          "output_type": "execute_result",
          "data": {
            "text/plain": [
              "array([[0.77765715]], dtype=float32)"
            ]
          },
          "metadata": {
            "tags": []
          },
          "execution_count": 55
        }
      ]
    },
    {
      "cell_type": "code",
      "metadata": {
        "id": "9288QsJtUoMV",
        "colab_type": "code",
        "colab": {
          "base_uri": "https://localhost:8080/",
          "height": 35
        },
        "outputId": "7c7aa8e4-d921-471a-c46a-565af5fb2aa0"
      },
      "source": [
        "sess.run(predicted,feed_dict={X:[[4,3]]} )"
      ],
      "execution_count": 56,
      "outputs": [
        {
          "output_type": "execute_result",
          "data": {
            "text/plain": [
              "array([[1.]], dtype=float32)"
            ]
          },
          "metadata": {
            "tags": []
          },
          "execution_count": 56
        }
      ]
    },
    {
      "cell_type": "code",
      "metadata": {
        "id": "WXDUjtcuUqD6",
        "colab_type": "code",
        "colab": {
          "base_uri": "https://localhost:8080/",
          "height": 35
        },
        "outputId": "3141a7e1-a48a-4493-9fd3-7368dfc9872d"
      },
      "source": [
        "sess.run(hypothesis,feed_dict={X:[[1,0.2]]} ) "
      ],
      "execution_count": 57,
      "outputs": [
        {
          "output_type": "execute_result",
          "data": {
            "text/plain": [
              "array([[0.01940913]], dtype=float32)"
            ]
          },
          "metadata": {
            "tags": []
          },
          "execution_count": 57
        }
      ]
    },
    {
      "cell_type": "code",
      "metadata": {
        "id": "jHJhYVOhUw6_",
        "colab_type": "code",
        "colab": {
          "base_uri": "https://localhost:8080/",
          "height": 35
        },
        "outputId": "1c59d78e-bc40-4214-aa69-c624ef11a876"
      },
      "source": [
        "sess.run(predicted,feed_dict={X:[[1,0.2]]} )"
      ],
      "execution_count": 58,
      "outputs": [
        {
          "output_type": "execute_result",
          "data": {
            "text/plain": [
              "array([[0.]], dtype=float32)"
            ]
          },
          "metadata": {
            "tags": []
          },
          "execution_count": 58
        }
      ]
    },
    {
      "cell_type": "code",
      "metadata": {
        "id": "UcIha69LUzDw",
        "colab_type": "code",
        "colab": {}
      },
      "source": [
        ""
      ],
      "execution_count": null,
      "outputs": []
    }
  ]
}