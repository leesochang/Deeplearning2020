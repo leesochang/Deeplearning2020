{
  "nbformat": 4,
  "nbformat_minor": 0,
  "metadata": {
    "colab": {
      "name": "인공지능개론_hello_MNIST_Keras_20142224_이소창.ipynb",
      "provenance": [],
      "authorship_tag": "ABX9TyPMqTjsJDC67ir5UWl4L4H7",
      "include_colab_link": true
    },
    "kernelspec": {
      "name": "python3",
      "display_name": "Python 3"
    }
  },
  "cells": [
    {
      "cell_type": "markdown",
      "metadata": {
        "id": "view-in-github",
        "colab_type": "text"
      },
      "source": [
        "<a href=\"https://colab.research.google.com/github/leesochang/Deeplearning2020/blob/master/%EC%9D%B8%EA%B3%B5%EC%A7%80%EB%8A%A5%EA%B0%9C%EB%A1%A0_hello_MNIST_Keras_20142224_%EC%9D%B4%EC%86%8C%EC%B0%BD.ipynb\" target=\"_parent\"><img src=\"https://colab.research.google.com/assets/colab-badge.svg\" alt=\"Open In Colab\"/></a>"
      ]
    },
    {
      "cell_type": "code",
      "metadata": {
        "id": "LmejOzWm2evx",
        "colab_type": "code",
        "colab": {}
      },
      "source": [
        "from keras.datasets import mnist\n",
        "from keras.models import Sequential\n",
        "from keras.layers.core import Dense, Activation\n",
        "from keras.utils import np_utils"
      ],
      "execution_count": 47,
      "outputs": []
    },
    {
      "cell_type": "code",
      "metadata": {
        "id": "wq5sQPGz2wZe",
        "colab_type": "code",
        "colab": {}
      },
      "source": [
        "(X_train, Y_train), (X_test, Y_test) = mnist.load_data()"
      ],
      "execution_count": 48,
      "outputs": []
    },
    {
      "cell_type": "code",
      "metadata": {
        "id": "XZt2gJS94iJC",
        "colab_type": "code",
        "colab": {
          "base_uri": "https://localhost:8080/",
          "height": 35
        },
        "outputId": "da3d6ad1-c280-43b2-beea-82df10c8bb51"
      },
      "source": [
        "X_train.shape"
      ],
      "execution_count": 49,
      "outputs": [
        {
          "output_type": "execute_result",
          "data": {
            "text/plain": [
              "(60000, 28, 28)"
            ]
          },
          "metadata": {
            "tags": []
          },
          "execution_count": 49
        }
      ]
    },
    {
      "cell_type": "code",
      "metadata": {
        "id": "ifbgAwzz4iRY",
        "colab_type": "code",
        "colab": {
          "base_uri": "https://localhost:8080/",
          "height": 35
        },
        "outputId": "6c7a8711-0ab1-4ee0-cc62-99538ad3a924"
      },
      "source": [
        "Y_train.shape"
      ],
      "execution_count": 50,
      "outputs": [
        {
          "output_type": "execute_result",
          "data": {
            "text/plain": [
              "(60000,)"
            ]
          },
          "metadata": {
            "tags": []
          },
          "execution_count": 50
        }
      ]
    },
    {
      "cell_type": "code",
      "metadata": {
        "id": "Fg1wtl-12wb7",
        "colab_type": "code",
        "colab": {}
      },
      "source": [
        "X_train = X_train.reshape(60000, 784)\n",
        "X_test = X_test.reshape(10000, 784)\n",
        "X_train = X_train.astype('float32')\n",
        "X_test = X_test.astype('float32')\n",
        "X_train /= 255\n",
        "X_test /= 255"
      ],
      "execution_count": 51,
      "outputs": []
    },
    {
      "cell_type": "code",
      "metadata": {
        "id": "yPCf1yWK2wih",
        "colab_type": "code",
        "colab": {}
      },
      "source": [
        "classes = 10\n",
        "Y_train = np_utils.to_categorical(Y_train, classes)\n",
        "Y_test = np_utils.to_categorical(Y_test, classes)"
      ],
      "execution_count": 52,
      "outputs": []
    },
    {
      "cell_type": "code",
      "metadata": {
        "id": "OH7Qq4gs2wlT",
        "colab_type": "code",
        "colab": {}
      },
      "source": [
        "input_size = 784\n",
        "batch_size = 100\n",
        "hidden_neurons = 400\n",
        "epochs = 30 #이걸 더 늘려도 됨 근데 이거는 20번만에 0.9999퍼임"
      ],
      "execution_count": 53,
      "outputs": []
    },
    {
      "cell_type": "code",
      "metadata": {
        "id": "yIlf-JcU2wnp",
        "colab_type": "code",
        "colab": {}
      },
      "source": [
        "model = Sequential()\n",
        "model.add(Dense(hidden_neurons, input_dim=input_size))\n",
        "model.add(Activation('relu'))\n",
        "model.add(Dense(classes, input_dim=hidden_neurons))\n",
        "model.add(Activation('softmax'))"
      ],
      "execution_count": 54,
      "outputs": []
    },
    {
      "cell_type": "code",
      "metadata": {
        "id": "geNCUcdMESWn",
        "colab_type": "code",
        "colab": {}
      },
      "source": [
        "model = Sequential()\n",
        "model.add(Dense(classes, input_dim=hidden_neurons))\n",
        "model.add(Activation('softmax'))"
      ],
      "execution_count": 55,
      "outputs": []
    },
    {
      "cell_type": "code",
      "metadata": {
        "id": "osaFcmht6CI7",
        "colab_type": "code",
        "colab": {
          "base_uri": "https://localhost:8080/",
          "height": 305
        },
        "outputId": "52d56235-0f00-4384-e4d4-fbf004469cd2"
      },
      "source": [
        "model.summary()"
      ],
      "execution_count": 56,
      "outputs": [
        {
          "output_type": "stream",
          "text": [
            "Model: \"sequential_6\"\n",
            "_________________________________________________________________\n",
            "Layer (type)                 Output Shape              Param #   \n",
            "=================================================================\n",
            "dense_9 (Dense)              (None, 400)               314000    \n",
            "_________________________________________________________________\n",
            "activation_9 (Activation)    (None, 400)               0         \n",
            "_________________________________________________________________\n",
            "dense_10 (Dense)             (None, 10)                4010      \n",
            "_________________________________________________________________\n",
            "activation_10 (Activation)   (None, 10)                0         \n",
            "=================================================================\n",
            "Total params: 318,010\n",
            "Trainable params: 318,010\n",
            "Non-trainable params: 0\n",
            "_________________________________________________________________\n"
          ],
          "name": "stdout"
        }
      ]
    },
    {
      "cell_type": "code",
      "metadata": {
        "id": "Cb5UVR6R6QTi",
        "colab_type": "code",
        "colab": {
          "base_uri": "https://localhost:8080/",
          "height": 533
        },
        "outputId": "343190f4-58da-4c86-a492-d6b11071c8dc"
      },
      "source": [
        "from keras.utils import plot_model\n",
        "plot_model(model, to_file='model_mnist.png', show_shapes=True) #784개를 넣어서 10개를 뽑는 과정"
      ],
      "execution_count": 57,
      "outputs": [
        {
          "output_type": "execute_result",
          "data": {
            "image/png": "[encoded data removed]",
            "text/plain": [
              "<IPython.core.display.Image object>"
            ]
          },
          "metadata": {
            "tags": []
          },
          "execution_count": 57
        }
      ]
    },
    {
      "cell_type": "code",
      "metadata": {
        "id": "2nmDjmiE2wp1",
        "colab_type": "code",
        "colab": {}
      },
      "source": [
        "model.compile(loss = 'categorical_crossentropy',\n",
        "              metrics = ['accuracy'], optimizer = 'adadelta')"
      ],
      "execution_count": 58,
      "outputs": []
    },
    {
      "cell_type": "code",
      "metadata": {
        "id": "kKUR5PPB55v5",
        "colab_type": "code",
        "colab": {
          "base_uri": "https://localhost:8080/",
          "height": 1000
        },
        "outputId": "d8ead80d-2fd8-4d4a-fb51-a89698f568cf"
      },
      "source": [
        "model.fit(X_train, Y_train, batch_size = batch_size, epochs = epochs, verbose = 1)"
      ],
      "execution_count": 59,
      "outputs": [
        {
          "output_type": "stream",
          "text": [
            "Epoch 1/30\n",
            "60000/60000 [==============================] - 4s 66us/step - loss: 0.2822 - accuracy: 0.9198\n",
            "Epoch 2/30\n",
            "60000/60000 [==============================] - 4s 63us/step - loss: 0.1217 - accuracy: 0.9642\n",
            "Epoch 3/30\n",
            "60000/60000 [==============================] - 4s 64us/step - loss: 0.0838 - accuracy: 0.9761\n",
            "Epoch 4/30\n",
            "60000/60000 [==============================] - 4s 64us/step - loss: 0.0631 - accuracy: 0.9817\n",
            "Epoch 5/30\n",
            "60000/60000 [==============================] - 4s 64us/step - loss: 0.0497 - accuracy: 0.9857\n",
            "Epoch 6/30\n",
            "60000/60000 [==============================] - 4s 63us/step - loss: 0.0401 - accuracy: 0.9888\n",
            "Epoch 7/30\n",
            "60000/60000 [==============================] - 4s 64us/step - loss: 0.0330 - accuracy: 0.9912\n",
            "Epoch 8/30\n",
            "60000/60000 [==============================] - 4s 64us/step - loss: 0.0269 - accuracy: 0.9927\n",
            "Epoch 9/30\n",
            "60000/60000 [==============================] - 4s 67us/step - loss: 0.0219 - accuracy: 0.9949\n",
            "Epoch 10/30\n",
            "60000/60000 [==============================] - 4s 65us/step - loss: 0.0181 - accuracy: 0.9958\n",
            "Epoch 11/30\n",
            "60000/60000 [==============================] - 4s 64us/step - loss: 0.0152 - accuracy: 0.9969\n",
            "Epoch 12/30\n",
            "60000/60000 [==============================] - 4s 64us/step - loss: 0.0126 - accuracy: 0.9974\n",
            "Epoch 13/30\n",
            "60000/60000 [==============================] - 4s 65us/step - loss: 0.0104 - accuracy: 0.9983\n",
            "Epoch 14/30\n",
            "60000/60000 [==============================] - 4s 65us/step - loss: 0.0085 - accuracy: 0.9987\n",
            "Epoch 15/30\n",
            "60000/60000 [==============================] - 4s 64us/step - loss: 0.0073 - accuracy: 0.9989\n",
            "Epoch 16/30\n",
            "60000/60000 [==============================] - 4s 64us/step - loss: 0.0056 - accuracy: 0.9993\n",
            "Epoch 17/30\n",
            "60000/60000 [==============================] - 4s 64us/step - loss: 0.0048 - accuracy: 0.9995\n",
            "Epoch 18/30\n",
            "60000/60000 [==============================] - 4s 64us/step - loss: 0.0041 - accuracy: 0.9995\n",
            "Epoch 19/30\n",
            "60000/60000 [==============================] - 4s 65us/step - loss: 0.0032 - accuracy: 0.9998\n",
            "Epoch 20/30\n",
            "60000/60000 [==============================] - 4s 64us/step - loss: 0.0027 - accuracy: 0.9998\n",
            "Epoch 21/30\n",
            "60000/60000 [==============================] - 4s 64us/step - loss: 0.0023 - accuracy: 0.9998\n",
            "Epoch 22/30\n",
            "60000/60000 [==============================] - 4s 64us/step - loss: 0.0020 - accuracy: 0.9999\n",
            "Epoch 23/30\n",
            "60000/60000 [==============================] - 4s 65us/step - loss: 0.0017 - accuracy: 0.9999\n",
            "Epoch 24/30\n",
            "60000/60000 [==============================] - 4s 65us/step - loss: 0.0015 - accuracy: 1.0000\n",
            "Epoch 25/30\n",
            "60000/60000 [==============================] - 4s 64us/step - loss: 0.0013 - accuracy: 1.0000\n",
            "Epoch 26/30\n",
            "60000/60000 [==============================] - 4s 64us/step - loss: 0.0011 - accuracy: 1.0000\n",
            "Epoch 27/30\n",
            "60000/60000 [==============================] - 4s 64us/step - loss: 9.8804e-04 - accuracy: 1.0000\n",
            "Epoch 28/30\n",
            "60000/60000 [==============================] - 4s 65us/step - loss: 9.3595e-04 - accuracy: 1.0000\n",
            "Epoch 29/30\n",
            "60000/60000 [==============================] - 4s 64us/step - loss: 8.1661e-04 - accuracy: 1.0000\n",
            "Epoch 30/30\n",
            "60000/60000 [==============================] - 4s 65us/step - loss: 7.7888e-04 - accuracy: 1.0000\n"
          ],
          "name": "stdout"
        },
        {
          "output_type": "execute_result",
          "data": {
            "text/plain": [
              "<keras.callbacks.callbacks.History at 0x7ff22fc98e80>"
            ]
          },
          "metadata": {
            "tags": []
          },
          "execution_count": 59
        }
      ]
    },
    {
      "cell_type": "code",
      "metadata": {
        "id": "JWHn1yU_6213",
        "colab_type": "code",
        "colab": {
          "base_uri": "https://localhost:8080/",
          "height": 71
        },
        "outputId": "1c27d978-659f-481d-da47-171c91b072a0"
      },
      "source": [
        "score = model.evaluate(X_test, Y_test, verbose = 1)\n",
        "print('\\n''Test accuracy:', score[1])"
      ],
      "execution_count": 60,
      "outputs": [
        {
          "output_type": "stream",
          "text": [
            "10000/10000 [==============================] - 0s 39us/step\n",
            "\n",
            "Test accuracy: 0.9829000234603882\n"
          ],
          "name": "stdout"
        }
      ]
    },
    {
      "cell_type": "code",
      "metadata": {
        "id": "PK-cO3FEDbkh",
        "colab_type": "code",
        "colab": {}
      },
      "source": [
        ""
      ],
      "execution_count": 60,
      "outputs": []
    }
  ]
}