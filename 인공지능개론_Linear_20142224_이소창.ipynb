{
  "nbformat": 4,
  "nbformat_minor": 0,
  "metadata": {
    "colab": {
      "name": "인공지능개론_Linear_20142224_이소창.ipynb",
      "provenance": [],
      "authorship_tag": "ABX9TyNV2tvsfSdzm8rqshxDUWO1",
      "include_colab_link": true
    },
    "kernelspec": {
      "name": "python3",
      "display_name": "Python 3"
    }
  },
  "cells": [
    {
      "cell_type": "markdown",
      "metadata": {
        "id": "view-in-github",
        "colab_type": "text"
      },
      "source": [
        "<a href=\"https://colab.research.google.com/github/leesochang/Deeplearning2020/blob/master/%EC%9D%B8%EA%B3%B5%EC%A7%80%EB%8A%A5%EA%B0%9C%EB%A1%A0_Linear_20142224_%EC%9D%B4%EC%86%8C%EC%B0%BD.ipynb\" target=\"_parent\"><img src=\"https://colab.research.google.com/assets/colab-badge.svg\" alt=\"Open In Colab\"/></a>"
      ]
    },
    {
      "cell_type": "code",
      "metadata": {
        "id": "HTLXPCbEJMBu",
        "colab_type": "code",
        "colab": {}
      },
      "source": [
        "#import tensorflow as tf\n",
        "import tensorflow.compat.v1 as tf\n",
        "tf.disable_v2_behavior()\n",
        "import numpy as np\n",
        "import matplotlib.pyplot as plt"
      ],
      "execution_count": 78,
      "outputs": []
    },
    {
      "cell_type": "code",
      "metadata": {
        "id": "OEXt59XWJly4",
        "colab_type": "code",
        "colab": {}
      },
      "source": [
        "x_train = [1, 2, 3]\n",
        "y_train = [2+1 +0.1, 4+1 -0.2, 6+1 +0.15]"
      ],
      "execution_count": 79,
      "outputs": []
    },
    {
      "cell_type": "code",
      "metadata": {
        "id": "z-hltutCQVBp",
        "colab_type": "code",
        "colab": {
          "base_uri": "https://localhost:8080/",
          "height": 297
        },
        "outputId": "32875072-20f3-4cef-a3c1-25c17f981ecc"
      },
      "source": [
        "plt.plot(x_train, y_train,'.-')\n",
        "plt.xlabel('X')\n",
        "plt.ylabel('Y')"
      ],
      "execution_count": 80,
      "outputs": [
        {
          "output_type": "execute_result",
          "data": {
            "text/plain": [
              "Text(0, 0.5, 'Y')"
            ]
          },
          "metadata": {
            "tags": []
          },
          "execution_count": 80
        },
        {
          "output_type": "display_data",
          "data": {
            "image/png": "[encoded data removed]",
            "text/plain": [
              "<Figure size 432x288 with 1 Axes>"
            ]
          },
          "metadata": {
            "tags": [],
            "needs_background": "light"
          }
        }
      ]
    },
    {
      "cell_type": "code",
      "metadata": {
        "id": "cidqbBehRBFk",
        "colab_type": "code",
        "colab": {}
      },
      "source": [
        "#Initialization(초기화) 바꿔보기\n",
        "w0 = 9;\n",
        "b0 = -20;"
      ],
      "execution_count": 81,
      "outputs": []
    },
    {
      "cell_type": "code",
      "metadata": {
        "id": "JxXRbXBVSvaU",
        "colab_type": "code",
        "colab": {}
      },
      "source": [
        "W = tf.Variable(w0*tf.ones([1]), name='weight')\n",
        "b = tf.Variable(b0*tf.ones([1]), name='bias')"
      ],
      "execution_count": 82,
      "outputs": []
    },
    {
      "cell_type": "code",
      "metadata": {
        "id": "iYOQkpQCYulz",
        "colab_type": "code",
        "colab": {}
      },
      "source": [
        "#Our hypothesis XW+b\n",
        "hypothesis = x_train * W + b"
      ],
      "execution_count": 83,
      "outputs": []
    },
    {
      "cell_type": "code",
      "metadata": {
        "id": "LIMBmMKMY3Dr",
        "colab_type": "code",
        "colab": {}
      },
      "source": [
        "cost = tf.reduce_mean(tf.square(hypothesis - y_train))"
      ],
      "execution_count": 84,
      "outputs": []
    },
    {
      "cell_type": "code",
      "metadata": {
        "id": "MkJ_KVrkY-VJ",
        "colab_type": "code",
        "colab": {}
      },
      "source": [
        "optimizer = tf.train.GradientDescentOptimizer(learning_rate=0.01)\n",
        "#optimizer = tf.compat.v1.train.GradientDescentOptimizer(learning_rate=0.01)\n",
        "train = optimizer.minimize(cost)"
      ],
      "execution_count": 85,
      "outputs": []
    },
    {
      "cell_type": "code",
      "metadata": {
        "id": "uilbTY2YZN8o",
        "colab_type": "code",
        "colab": {}
      },
      "source": [
        "sess = tf.Session()"
      ],
      "execution_count": 86,
      "outputs": []
    },
    {
      "cell_type": "code",
      "metadata": {
        "id": "jYZBsjatZRbF",
        "colab_type": "code",
        "colab": {}
      },
      "source": [
        "sess.run(tf.global_variables_initializer())"
      ],
      "execution_count": 87,
      "outputs": []
    },
    {
      "cell_type": "code",
      "metadata": {
        "id": "Bl1jFrSwZUas",
        "colab_type": "code",
        "colab": {}
      },
      "source": [
        "nb_epoch = 2000"
      ],
      "execution_count": 88,
      "outputs": []
    },
    {
      "cell_type": "code",
      "metadata": {
        "id": "fcCzqsjoZZGw",
        "colab_type": "code",
        "colab": {
          "base_uri": "https://localhost:8080/",
          "height": 107
        },
        "outputId": "ad83cce3-fd32-4b0b-9faa-a1cb2fb45f5d"
      },
      "source": [
        "for i in range(100):\n",
        "  if i % 20 ==0:\n",
        "    print(i)"
      ],
      "execution_count": 89,
      "outputs": [
        {
          "output_type": "stream",
          "text": [
            "0\n",
            "20\n",
            "40\n",
            "60\n",
            "80\n"
          ],
          "name": "stdout"
        }
      ]
    },
    {
      "cell_type": "code",
      "metadata": {
        "id": "6iyIXhRrZePf",
        "colab_type": "code",
        "colab": {}
      },
      "source": [
        "vw = []\n",
        "vb = []\n",
        "vcost = []"
      ],
      "execution_count": 90,
      "outputs": []
    },
    {
      "cell_type": "code",
      "metadata": {
        "id": "S0SamozLZkoB",
        "colab_type": "code",
        "colab": {
          "base_uri": "https://localhost:8080/",
          "height": 395
        },
        "outputId": "52e6462d-7bc1-438a-a2be-421b8ff7b17e"
      },
      "source": [
        "for step in range(nb_epoch+1):\n",
        "  sess.run(train)\n",
        "\n",
        "  w1 = sess.run(W)[0] # slope\n",
        "  b1 = sess.run(b)[0] # bias\n",
        "  cost1 = sess.run(cost)\n",
        "\n",
        "  vw.append(w1)\n",
        "  vb.append(b1)\n",
        "  vcost.append(cost1)\n",
        "\n",
        "  if step % 100 == 0: # 100번마다 결과 출력\n",
        "    print(step, '--', cost1, '--', w1, '--', b1)"
      ],
      "execution_count": 91,
      "outputs": [
        {
          "output_type": "stream",
          "text": [
            "0 -- 76.489 -- 9.187667 -- -19.859667\n",
            "100 -- 35.800785 -- 8.972028 -- -14.825594\n",
            "200 -- 22.13167 -- 7.486006 -- -11.447483\n",
            "300 -- 13.684983 -- 6.3178463 -- -8.791982\n",
            "400 -- 8.465455 -- 5.399568 -- -6.70452\n",
            "500 -- 5.240105 -- 4.677718 -- -5.063585\n",
            "600 -- 3.2470348 -- 4.110278 -- -3.7736611\n",
            "700 -- 2.0154374 -- 3.6642184 -- -2.7596626\n",
            "800 -- 1.254386 -- 3.313575 -- -1.9625676\n",
            "900 -- 0.784102 -- 3.0379374 -- -1.3359784\n",
            "1000 -- 0.49349523 -- 2.8212612 -- -0.8434222\n",
            "1100 -- 0.31391785 -- 2.650934 -- -0.45622826\n",
            "1200 -- 0.20295 -- 2.5170412 -- -0.15185829\n",
            "1300 -- 0.13437851 -- 2.411789 -- 0.08740415\n",
            "1400 -- 0.0920056 -- 2.3290517 -- 0.27548596\n",
            "1500 -- 0.06582162 -- 2.264012 -- 0.42333594\n",
            "1600 -- 0.049641553 -- 2.2128851 -- 0.5395593\n",
            "1700 -- 0.039643224 -- 2.172695 -- 0.63092154\n",
            "1800 -- 0.033464942 -- 2.1411016 -- 0.70274025\n",
            "1900 -- 0.02964708 -- 2.1162665 -- 0.75919676\n",
            "2000 -- 0.027287893 -- 2.0967436 -- 0.80357635\n"
          ],
          "name": "stdout"
        }
      ]
    },
    {
      "cell_type": "code",
      "metadata": {
        "id": "4kmpXCHUZsjY",
        "colab_type": "code",
        "colab": {
          "base_uri": "https://localhost:8080/",
          "height": 53
        },
        "outputId": "47a8bcd4-e80a-4a44-c17c-d5df9216b385"
      },
      "source": [
        "w1 = sess.run(W) [0]\n",
        "b1 = sess.run(b) [0]\n",
        "str1 = 'y ={:.3}x + {:.3}'.format(w1,b1)\n",
        "print(w1, b1)\n",
        "print(str1)"
      ],
      "execution_count": 92,
      "outputs": [
        {
          "output_type": "stream",
          "text": [
            "2.0967436 0.80357635\n",
            "y =2.1x + 0.804\n"
          ],
          "name": "stdout"
        }
      ]
    },
    {
      "cell_type": "code",
      "metadata": {
        "id": "Rs0C5FGgaCWZ",
        "colab_type": "code",
        "colab": {
          "base_uri": "https://localhost:8080/",
          "height": 313
        },
        "outputId": "2278fbf6-7cd0-4e4c-f0f3-b2730aa7e208"
      },
      "source": [
        "plt.figure(1)\n",
        "plt.plot(x_train, y_train,'o')\n",
        "\n",
        "x1 = np.min(x_train)-1, np.max(x_train)+1\n",
        "y1 = np.dot(w1,x1) + b1\n",
        "plt.plot(x1, y1)\n",
        "plt.grid()\n",
        "plt.xlabel('epoch')\n",
        "plt.title(str1)"
      ],
      "execution_count": 93,
      "outputs": [
        {
          "output_type": "execute_result",
          "data": {
            "text/plain": [
              "Text(0.5, 1.0, 'y =2.1x + 0.804')"
            ]
          },
          "metadata": {
            "tags": []
          },
          "execution_count": 93
        },
        {
          "output_type": "display_data",
          "data": {
            "image/png": "[encoded data removed]",
            "text/plain": [
              "<Figure size 432x288 with 1 Axes>"
            ]
          },
          "metadata": {
            "tags": [],
            "needs_background": "light"
          }
        }
      ]
    },
    {
      "cell_type": "code",
      "metadata": {
        "id": "_MbAT8GAaTDS",
        "colab_type": "code",
        "colab": {
          "base_uri": "https://localhost:8080/",
          "height": 297
        },
        "outputId": "1e9ed2bb-78c0-460b-8e97-a77d592576e5"
      },
      "source": [
        "plt.plot(vb)\n",
        "plt.grid()\n",
        "plt.xlabel('epoch')"
      ],
      "execution_count": 94,
      "outputs": [
        {
          "output_type": "execute_result",
          "data": {
            "text/plain": [
              "Text(0.5, 0, 'epoch')"
            ]
          },
          "metadata": {
            "tags": []
          },
          "execution_count": 94
        },
        {
          "output_type": "display_data",
          "data": {
            "image/png": "[encoded data removed]",
            "text/plain": [
              "<Figure size 432x288 with 1 Axes>"
            ]
          },
          "metadata": {
            "tags": [],
            "needs_background": "light"
          }
        }
      ]
    },
    {
      "cell_type": "code",
      "metadata": {
        "id": "cW8nvl_Uaaqc",
        "colab_type": "code",
        "colab": {
          "base_uri": "https://localhost:8080/",
          "height": 283
        },
        "outputId": "c0f9d712-1f99-4e1d-f2f7-6cb932eaa721"
      },
      "source": [
        "plt.plot(vw)"
      ],
      "execution_count": 95,
      "outputs": [
        {
          "output_type": "execute_result",
          "data": {
            "text/plain": [
              "[<matplotlib.lines.Line2D at 0x7fa5937eb748>]"
            ]
          },
          "metadata": {
            "tags": []
          },
          "execution_count": 95
        },
        {
          "output_type": "display_data",
          "data": {
            "image/png": "[encoded data removed]",
            "text/plain": [
              "<Figure size 432x288 with 1 Axes>"
            ]
          },
          "metadata": {
            "tags": [],
            "needs_background": "light"
          }
        }
      ]
    },
    {
      "cell_type": "code",
      "metadata": {
        "id": "T7l13EIFadMR",
        "colab_type": "code",
        "colab": {
          "base_uri": "https://localhost:8080/",
          "height": 287
        },
        "outputId": "5dfb06be-393b-48ff-a42e-fcfeb2feb493"
      },
      "source": [
        "plt.plot(vcost)"
      ],
      "execution_count": 96,
      "outputs": [
        {
          "output_type": "execute_result",
          "data": {
            "text/plain": [
              "[<matplotlib.lines.Line2D at 0x7fa593748e80>]"
            ]
          },
          "metadata": {
            "tags": []
          },
          "execution_count": 96
        },
        {
          "output_type": "display_data",
          "data": {
            "image/png": "[encoded data removed]",
            "text/plain": [
              "<Figure size 432x288 with 1 Axes>"
            ]
          },
          "metadata": {
            "tags": [],
            "needs_background": "light"
          }
        }
      ]
    },
    {
      "cell_type": "code",
      "metadata": {
        "id": "l8VuxoVbagf2",
        "colab_type": "code",
        "colab": {}
      },
      "source": [
        ""
      ],
      "execution_count": 96,
      "outputs": []
    }
  ]
}