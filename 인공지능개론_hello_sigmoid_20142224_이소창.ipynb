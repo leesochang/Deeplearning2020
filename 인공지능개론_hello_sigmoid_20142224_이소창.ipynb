{
  "nbformat": 4,
  "nbformat_minor": 0,
  "metadata": {
    "colab": {
      "name": "인공지능개론_hello_sigmoid_20142224_이소창.ipynb",
      "provenance": [],
      "authorship_tag": "ABX9TyPhky5bhrqNI2kdlAGmUS0B",
      "include_colab_link": true
    },
    "kernelspec": {
      "name": "python3",
      "display_name": "Python 3"
    }
  },
  "cells": [
    {
      "cell_type": "markdown",
      "metadata": {
        "id": "view-in-github",
        "colab_type": "text"
      },
      "source": [
        "<a href=\"https://colab.research.google.com/github/leesochang/Deeplearning2020/blob/master/%EC%9D%B8%EA%B3%B5%EC%A7%80%EB%8A%A5%EA%B0%9C%EB%A1%A0_hello_sigmoid_20142224_%EC%9D%B4%EC%86%8C%EC%B0%BD.ipynb\" target=\"_parent\"><img src=\"https://colab.research.google.com/assets/colab-badge.svg\" alt=\"Open In Colab\"/></a>"
      ]
    },
    {
      "cell_type": "code",
      "metadata": {
        "id": "HTJmgVHuJtLU",
        "colab_type": "code",
        "colab": {}
      },
      "source": [
        "import numpy as np\n",
        "import matplotlib.pyplot as plt"
      ],
      "execution_count": null,
      "outputs": []
    },
    {
      "cell_type": "code",
      "metadata": {
        "id": "791T2L0gJ98q",
        "colab_type": "code",
        "colab": {
          "base_uri": "https://localhost:8080/",
          "height": 35
        },
        "outputId": "94ec0543-ca35-46ef-f191-8ae6784a4ff8"
      },
      "source": [
        "x = np.arange(-9.0, 9.0, 0.1)\n",
        "x.shape"
      ],
      "execution_count": null,
      "outputs": [
        {
          "output_type": "execute_result",
          "data": {
            "text/plain": [
              "(180,)"
            ]
          },
          "metadata": {
            "tags": []
          },
          "execution_count": 18
        }
      ]
    },
    {
      "cell_type": "code",
      "metadata": {
        "id": "UUNRzoqLKBA6",
        "colab_type": "code",
        "colab": {}
      },
      "source": [
        " def step_function(x):\n",
        "    return np.array(x>0, dtype=np.int)"
      ],
      "execution_count": null,
      "outputs": []
    },
    {
      "cell_type": "code",
      "metadata": {
        "id": "1zdRdF-zKExq",
        "colab_type": "code",
        "colab": {}
      },
      "source": [
        "y = step_function(x)"
      ],
      "execution_count": null,
      "outputs": []
    },
    {
      "cell_type": "code",
      "metadata": {
        "id": "UN-0jhCGKGq0",
        "colab_type": "code",
        "colab": {
          "base_uri": "https://localhost:8080/",
          "height": 281
        },
        "outputId": "98b69b7d-ddf5-40a2-b0d6-7271e7b5b895"
      },
      "source": [
        "plt.plot(x, y)\n",
        "plt.title('step_function')\n",
        "plt.show()"
      ],
      "execution_count": null,
      "outputs": [
        {
          "output_type": "display_data",
          "data": {
            "image/png": "[encoded data removed]",
            "text/plain": [
              "<Figure size 432x288 with 1 Axes>"
            ]
          },
          "metadata": {
            "tags": [],
            "needs_background": "light"
          }
        }
      ]
    },
    {
      "cell_type": "code",
      "metadata": {
        "id": "Ufp2pA0hKIaD",
        "colab_type": "code",
        "colab": {}
      },
      "source": [
        "def sigmoid(x):             #0~1 사이의 실수를 출력하는 함수\n",
        "    return 1 / (1 +np.exp(-x))"
      ],
      "execution_count": null,
      "outputs": []
    },
    {
      "cell_type": "code",
      "metadata": {
        "id": "GgTy4r4_KKXb",
        "colab_type": "code",
        "colab": {
          "base_uri": "https://localhost:8080/",
          "height": 71
        },
        "outputId": "4dc1285c-5cb3-4f7a-b0e7-fcb97fbe944f"
      },
      "source": [
        "x = np.arange(-10.0, 10.0, 0.1)\n",
        "y2 = sigmoid(x)                 \n",
        "print(sigmoid(100))\n",
        "print(sigmoid(10))\n",
        "print(sigmoid(-90))"
      ],
      "execution_count": null,
      "outputs": [
        {
          "output_type": "stream",
          "text": [
            "1.0\n",
            "0.9999546021312976\n",
            "8.194012623990515e-40\n"
          ],
          "name": "stdout"
        }
      ]
    },
    {
      "cell_type": "code",
      "metadata": {
        "id": "jBFfin7qKL3I",
        "colab_type": "code",
        "colab": {
          "base_uri": "https://localhost:8080/",
          "height": 281
        },
        "outputId": "aa5527df-769e-4f8a-da1e-68829d03d01f"
      },
      "source": [
        "plt.plot(x, y2)\n",
        "plt.title('sigmoid_function')\n",
        "plt.grid()\n",
        "plt.show()"
      ],
      "execution_count": null,
      "outputs": [
        {
          "output_type": "display_data",
          "data": {
            "image/png": "[encoded data removed]",
            "text/plain": [
              "<Figure size 432x288 with 1 Axes>"
            ]
          },
          "metadata": {
            "tags": [],
            "needs_background": "light"
          }
        }
      ]
    },
    {
      "cell_type": "code",
      "metadata": {
        "id": "oXnB8AFqKNYi",
        "colab_type": "code",
        "colab": {}
      },
      "source": [
        ""
      ],
      "execution_count": null,
      "outputs": []
    }
  ]
}