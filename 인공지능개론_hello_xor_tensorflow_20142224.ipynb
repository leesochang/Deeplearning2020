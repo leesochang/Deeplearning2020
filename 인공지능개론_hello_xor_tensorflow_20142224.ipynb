{
  "nbformat": 4,
  "nbformat_minor": 0,
  "metadata": {
    "kernelspec": {
      "display_name": "Python 3",
      "language": "python",
      "name": "python3"
    },
    "language_info": {
      "codemirror_mode": {
        "name": "ipython",
        "version": 3
      },
      "file_extension": ".py",
      "mimetype": "text/x-python",
      "name": "python",
      "nbconvert_exporter": "python",
      "pygments_lexer": "ipython3",
      "version": "3.6.8"
    },
    "colab": {
      "name": "인공지능개론_hello_xor_tensorflow_20142224",
      "provenance": [],
      "collapsed_sections": [],
      "include_colab_link": true
    }
  },
  "cells": [
    {
      "cell_type": "markdown",
      "metadata": {
        "id": "view-in-github",
        "colab_type": "text"
      },
      "source": [
        "<a href=\"https://colab.research.google.com/github/leesochang/Deeplearning2020/blob/master/%EC%9D%B8%EA%B3%B5%EC%A7%80%EB%8A%A5%EA%B0%9C%EB%A1%A0_hello_xor_tensorflow_20142224.ipynb\" target=\"_parent\"><img src=\"https://colab.research.google.com/assets/colab-badge.svg\" alt=\"Open In Colab\"/></a>"
      ]
    },
    {
      "cell_type": "code",
      "metadata": {
        "id": "TjQe8EcAgixe",
        "colab_type": "code",
        "colab": {}
      },
      "source": [
        ""
      ],
      "execution_count": 67,
      "outputs": []
    },
    {
      "cell_type": "markdown",
      "metadata": {
        "id": "fcr54GMwegrz",
        "colab_type": "text"
      },
      "source": [
        "## XOR 이해하기"
      ]
    },
    {
      "cell_type": "code",
      "metadata": {
        "id": "RnOSEEnPegr1",
        "colab_type": "code",
        "colab": {}
      },
      "source": [
        "#import tensorflow as tf\n",
        "import tensorflow.compat.v1 as tf\n",
        "tf.disable_v2_behavior()\n",
        "\n",
        "import numpy as np\n",
        "import matplotlib.pyplot as plt"
      ],
      "execution_count": 68,
      "outputs": []
    },
    {
      "cell_type": "markdown",
      "metadata": {
        "id": "83ivGKcNegr6",
        "colab_type": "text"
      },
      "source": [
        "1. AND 데이터로 바꾸어서 해보기\n",
        "2. XOR 데이터로 바꾸어서 해보기"
      ]
    },
    {
      "cell_type": "code",
      "metadata": {
        "id": "rcmTRs4Regr6",
        "colab_type": "code",
        "colab": {}
      },
      "source": [
        "x_data = [[0, 0],\n",
        "          [0, 1],\n",
        "          [1, 0],\n",
        "          [1, 1]]\n",
        "#XOR\n",
        "y_data = [[0],\n",
        "          [1],\n",
        "          [1],\n",
        "          [0]]\n",
        "\n",
        "x_data = np.array(x_data, dtype=np.float32)\n",
        "y_data = np.array(y_data, dtype=np.float32)"
      ],
      "execution_count": 69,
      "outputs": []
    },
    {
      "cell_type": "code",
      "metadata": {
        "id": "7r_9HwGuegr-",
        "colab_type": "code",
        "colab": {}
      },
      "source": [
        "X = tf.placeholder(tf.float32, [None, 2])\n",
        "Y = tf.placeholder(tf.float32, [None, 1])"
      ],
      "execution_count": 70,
      "outputs": []
    },
    {
      "cell_type": "markdown",
      "metadata": {
        "id": "VL_80CVkegsA",
        "colab_type": "text"
      },
      "source": [
        "* 안되는 네트워크 구조 예제. 되도록 고쳐봅시다. "
      ]
    },
    {
      "cell_type": "code",
      "metadata": {
        "id": "7n-FX0g4egsB",
        "colab_type": "code",
        "colab": {}
      },
      "source": [
        "#W = tf.Variable(tf.random_normal([2, 1]), name='weight')\n",
        "#b = tf.Variable(tf.random_normal([1]), name='bias')\n",
        "#hypothesis = tf.sigmoid(tf.matmul(X, W) + b)"
      ],
      "execution_count": 71,
      "outputs": []
    },
    {
      "cell_type": "code",
      "metadata": {
        "id": "Ig-dkdgljsn6",
        "colab_type": "code",
        "colab": {}
      },
      "source": [
        "W = tf.Variable(tf.random_normal([2, 2]), name='weight') #2개의 노드\n",
        "b = tf.Variable(tf.random_normal([2]), name='bias')\n",
        "hypothesis = tf.sigmoid(tf.matmul(X, W) + b)\n",
        "\n",
        "#W2 = tf.Variable(tf.random_normal([2, 1]), name='weight2')\n",
        "#b2 = tf.Variable(tf.random_normal([1]), name='bias2')\n",
        "#hypothesis = tf.sigmoid(tf.matmul(X, W2) + b2)"
      ],
      "execution_count": 72,
      "outputs": []
    },
    {
      "cell_type": "code",
      "metadata": {
        "id": "RnJTgNyqegsE",
        "colab_type": "code",
        "colab": {}
      },
      "source": [
        "cost = -tf.reduce_mean(Y * tf.log(hypothesis) + (1 - Y) * tf.log(1 - hypothesis))\n",
        "#train = tf.train.GradientDescentOptimizer(learning_rate=0.01).minimize(cost)\n",
        "train = tf.train.AdamOptimizer(learning_rate=0.001).minimize(cost)"
      ],
      "execution_count": 73,
      "outputs": []
    },
    {
      "cell_type": "code",
      "metadata": {
        "id": "W7IznY2EegsH",
        "colab_type": "code",
        "colab": {}
      },
      "source": [
        "predicted = tf.cast(hypothesis > 0.5, dtype=tf.float32)\n",
        "accuracy = tf.reduce_mean(tf.cast(tf.equal(predicted, Y), dtype=tf.float32))"
      ],
      "execution_count": 74,
      "outputs": []
    },
    {
      "cell_type": "code",
      "metadata": {
        "id": "1ml-Au3TegsJ",
        "colab_type": "code",
        "colab": {}
      },
      "source": [
        "sess = tf.Session()"
      ],
      "execution_count": 75,
      "outputs": []
    },
    {
      "cell_type": "code",
      "metadata": {
        "id": "j4JayUHmegsM",
        "colab_type": "code",
        "colab": {}
      },
      "source": [
        "sess.run(tf.global_variables_initializer())"
      ],
      "execution_count": 76,
      "outputs": []
    },
    {
      "cell_type": "code",
      "metadata": {
        "id": "YfjSetsTegsT",
        "colab_type": "code",
        "colab": {}
      },
      "source": [
        "vcost =[]"
      ],
      "execution_count": 77,
      "outputs": []
    },
    {
      "cell_type": "code",
      "metadata": {
        "id": "zxs7FnHvegsW",
        "colab_type": "code",
        "colab": {
          "base_uri": "https://localhost:8080/",
          "height": 215
        },
        "outputId": "35a14e5e-20a7-40e8-ce7f-61d010b5e72b"
      },
      "source": [
        "for step in range(10001):\n",
        "\n",
        "    cost1, _ = sess.run([cost, train], feed_dict={X: x_data, Y: y_data})\n",
        "    vcost.append(cost1)\n",
        "    if step %1000 ==0:\n",
        "        \n",
        "        print(cost1)"
      ],
      "execution_count": 78,
      "outputs": [
        {
          "output_type": "stream",
          "text": [
            "0.81944203\n",
            "0.7139952\n",
            "0.6973363\n",
            "0.693591\n",
            "0.69315845\n",
            "0.6931472\n",
            "0.6931472\n",
            "0.6931472\n",
            "0.6931472\n",
            "0.6931472\n",
            "0.6931472\n"
          ],
          "name": "stdout"
        }
      ]
    },
    {
      "cell_type": "code",
      "metadata": {
        "id": "LcZGCYbqegsZ",
        "colab_type": "code",
        "colab": {
          "base_uri": "https://localhost:8080/",
          "height": 313
        },
        "outputId": "37bc8ac2-4e96-4b46-bfdf-675c2713c677"
      },
      "source": [
        "plt.plot(vcost)\n",
        "plt.title('Cost')\n",
        "plt.xlabel('epoch')"
      ],
      "execution_count": 79,
      "outputs": [
        {
          "output_type": "execute_result",
          "data": {
            "text/plain": [
              "Text(0.5, 0, 'epoch')"
            ]
          },
          "metadata": {
            "tags": []
          },
          "execution_count": 79
        },
        {
          "output_type": "display_data",
          "data": {
            "image/png": "[encoded data removed]",
            "text/plain": [
              "<Figure size 432x288 with 1 Axes>"
            ]
          },
          "metadata": {
            "tags": [],
            "needs_background": "light"
          }
        }
      ]
    },
    {
      "cell_type": "code",
      "metadata": {
        "id": "XO8EZJojegsd",
        "colab_type": "code",
        "colab": {}
      },
      "source": [
        "test1 = sess.run(hypothesis, feed_dict={X:[[1,0]]})"
      ],
      "execution_count": 80,
      "outputs": []
    },
    {
      "cell_type": "code",
      "metadata": {
        "id": "FPAZ2UULegsg",
        "colab_type": "code",
        "colab": {
          "base_uri": "https://localhost:8080/",
          "height": 35
        },
        "outputId": "44328d3e-41ca-407e-e3c6-7b96cc03a52f"
      },
      "source": [
        "print(test1[0][0])"
      ],
      "execution_count": 81,
      "outputs": [
        {
          "output_type": "stream",
          "text": [
            "0.50000006\n"
          ],
          "name": "stdout"
        }
      ]
    },
    {
      "cell_type": "code",
      "metadata": {
        "id": "UIJycPLpegsj",
        "colab_type": "code",
        "colab": {}
      },
      "source": [
        "test1 = sess.run(hypothesis, feed_dict={X:[[0.1,0]]})"
      ],
      "execution_count": 82,
      "outputs": []
    },
    {
      "cell_type": "code",
      "metadata": {
        "id": "4ADznFttgLny",
        "colab_type": "code",
        "colab": {
          "base_uri": "https://localhost:8080/",
          "height": 35
        },
        "outputId": "07aba895-7070-4108-e074-3a64524422bc"
      },
      "source": [
        "print(test1[0][0])"
      ],
      "execution_count": 83,
      "outputs": [
        {
          "output_type": "stream",
          "text": [
            "0.50000006\n"
          ],
          "name": "stdout"
        }
      ]
    },
    {
      "cell_type": "code",
      "metadata": {
        "id": "9VmG7WRUga-4",
        "colab_type": "code",
        "colab": {
          "base_uri": "https://localhost:8080/",
          "height": 89
        },
        "outputId": "7aabd51b-9bcd-40eb-ce46-0ec0f73de44e"
      },
      "source": [
        "for i in range(4):\n",
        "  test1 = sess.run(hypothesis, feed_dict = {X:[x_data[i]]})\n",
        "  print(i, x_data[i], y_data[i], '---- predicted : ', test1)"
      ],
      "execution_count": 84,
      "outputs": [
        {
          "output_type": "stream",
          "text": [
            "0 [0. 0.] [0.] ---- predicted :  [[0.50000006 0.50000006]]\n",
            "1 [0. 1.] [1.] ---- predicted :  [[0.5        0.50000006]]\n",
            "2 [1. 0.] [1.] ---- predicted :  [[0.50000006 0.5       ]]\n",
            "3 [1. 1.] [0.] ---- predicted :  [[0.5 0.5]]\n"
          ],
          "name": "stdout"
        }
      ]
    },
    {
      "cell_type": "code",
      "metadata": {
        "id": "nsKvrwkxg6PD",
        "colab_type": "code",
        "colab": {
          "base_uri": "https://localhost:8080/",
          "height": 35
        },
        "outputId": "e2d29c14-5217-4db6-a10f-c381b21d2653"
      },
      "source": [
        "sess.run(accuracy, feed_dict = {X: x_data, Y: y_data})"
      ],
      "execution_count": 85,
      "outputs": [
        {
          "output_type": "execute_result",
          "data": {
            "text/plain": [
              "0.5"
            ]
          },
          "metadata": {
            "tags": []
          },
          "execution_count": 85
        }
      ]
    },
    {
      "cell_type": "code",
      "metadata": {
        "id": "Q311AW0ehkg8",
        "colab_type": "code",
        "colab": {}
      },
      "source": [
        ""
      ],
      "execution_count": 85,
      "outputs": []
    }
  ]
}